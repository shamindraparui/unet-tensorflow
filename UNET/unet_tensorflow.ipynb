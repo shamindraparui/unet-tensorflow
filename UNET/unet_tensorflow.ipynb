{
  "nbformat": 4,
  "nbformat_minor": 0,
  "metadata": {
    "colab": {
      "name": "Copy of unet_tensorflow.ipynb",
      "provenance": [],
      "collapsed_sections": []
    },
    "kernelspec": {
      "name": "python3",
      "display_name": "Python 3"
    },
    "language_info": {
      "name": "python"
    },
    "accelerator": "GPU"
  },
  "cells": [
    {
      "cell_type": "code",
      "source": [
        "!nvidia-smi"
      ],
      "metadata": {
        "colab": {
          "base_uri": "https://localhost:8080/"
        },
        "id": "VV5Ij-OEbRDx",
        "outputId": "47e8cf35-5b11-4dc8-b8fc-9b226977ed8f"
      },
      "execution_count": 1,
      "outputs": [
        {
          "output_type": "stream",
          "name": "stdout",
          "text": [
            "Fri Feb 11 07:41:57 2022       \n",
            "+-----------------------------------------------------------------------------+\n",
            "| NVIDIA-SMI 460.32.03    Driver Version: 460.32.03    CUDA Version: 11.2     |\n",
            "|-------------------------------+----------------------+----------------------+\n",
            "| GPU  Name        Persistence-M| Bus-Id        Disp.A | Volatile Uncorr. ECC |\n",
            "| Fan  Temp  Perf  Pwr:Usage/Cap|         Memory-Usage | GPU-Util  Compute M. |\n",
            "|                               |                      |               MIG M. |\n",
            "|===============================+======================+======================|\n",
            "|   0  Tesla K80           Off  | 00000000:00:04.0 Off |                    0 |\n",
            "| N/A   39C    P8    28W / 149W |      0MiB / 11441MiB |      0%      Default |\n",
            "|                               |                      |                  N/A |\n",
            "+-------------------------------+----------------------+----------------------+\n",
            "                                                                               \n",
            "+-----------------------------------------------------------------------------+\n",
            "| Processes:                                                                  |\n",
            "|  GPU   GI   CI        PID   Type   Process name                  GPU Memory |\n",
            "|        ID   ID                                                   Usage      |\n",
            "|=============================================================================|\n",
            "|  No running processes found                                                 |\n",
            "+-----------------------------------------------------------------------------+\n"
          ]
        }
      ]
    },
    {
      "cell_type": "code",
      "source": [
        "import os\n",
        "import cv2\n",
        "import tensorflow as tf\n",
        "import matplotlib.pyplot as plt \n",
        "\n",
        "import numpy as np\n",
        "\n",
        "folders = {\n",
        "    'train_x' : os.path.join('train', 'membrane_x'),\n",
        "    'train_y' : os.path.join('train', 'membrane_y'),\n",
        "    'test_x' : os.path.join('test', 'membrane_x'),\n",
        "    'test_y' : os.path.join('test', 'membrane_y')\n",
        "}\n",
        "\n",
        "\n",
        "train_x = np.zeros((30, 256, 256,1), dtype=np.float32)\n",
        "train_y = np.zeros((30, 256, 256,1), dtype=np.float32)\n",
        "filled_images = 0\n",
        "\n",
        "\n",
        "for i, eachImage in enumerate(os.listdir(folders['train_x'])):\n",
        "    img = cv2.imread(os.path.join(folders['train_x'], eachImage),cv2.THRESH_BINARY)\n",
        "    img = cv2.resize(img, (256,256), interpolation = cv2.INTER_NEAREST)\n",
        "    img = img.reshape((256,256,1))\n",
        "    img = img / 255\n",
        "    #img[img > 0.5] = 1.0\n",
        "    #img[img <= 0.5] = 0.0\n",
        "    train_x[i] = img\n",
        "    \n",
        "    mask = cv2.imread(os.path.join(folders['train_y'], str(i)+'_predict.png'), cv2.THRESH_BINARY)\n",
        "    mask = cv2.resize(mask, (256,256))\n",
        "    mask = mask.reshape((256,256,1))\n",
        "    mask = mask/255\n",
        "    mask[mask > 0.5] = 1.0\n",
        "    mask[mask <= 0.5] = 0.0\n",
        "    train_y[i] = mask\n",
        "    filled_images+=1"
      ],
      "metadata": {
        "id": "m5QP2FrdWf67"
      },
      "execution_count": 4,
      "outputs": []
    },
    {
      "cell_type": "code",
      "source": [
        "#from numpy.lib.twodim_base import mask_indices\n",
        "test_x = np.zeros((5, 256, 256, 1), dtype=np.float32)\n",
        "test_y = np.zeros((5, 256, 256, 1), dtype=np.float32)\n",
        "\n",
        "for i, eachImage in enumerate(os.listdir(folders['test_x'])):\n",
        "    img = cv2.imread(os.path.join(folders['test_x'], eachImage),cv2.THRESH_BINARY)\n",
        "    img = cv2.resize(img, (256,256))\n",
        "    img = img.reshape((256, 256, 1))\n",
        "    img = img / 255\n",
        "    test_x[i] = img\n",
        "    \n",
        "    mask = cv2.imread(os.path.join(folders['test_y'], str(25 + i)+'_predict.png'),cv2.THRESH_BINARY)\n",
        "    mask = cv2.resize(mask, (256,256))\n",
        "    mask = mask.reshape((256, 256, 1))\n",
        "    mask = mask/255\n",
        "    test_y[i] = mask"
      ],
      "metadata": {
        "id": "S1t21TxQWmhH"
      },
      "execution_count": 5,
      "outputs": []
    },
    {
      "cell_type": "code",
      "source": [
        "from tensorflow.keras.preprocessing.image import ImageDataGenerator\n",
        "\n",
        "train_generator = ImageDataGenerator(\n",
        "    rotation_range=40,\n",
        "    width_shift_range=0.2,\n",
        "    height_shift_range=0.2,\n",
        "    #shear_range=0.2,\n",
        "    zoom_range=0.2,\n",
        "    horizontal_flip=True,\n",
        "    fill_mode='nearest'\n",
        ")\n",
        "train_generator = train_generator.flow(\n",
        "    train_x,\n",
        "    train_y,\n",
        "    shuffle=True,\n",
        "    batch_size=2\n",
        ")"
      ],
      "metadata": {
        "id": "P4x7C7z3kLbw"
      },
      "execution_count": 6,
      "outputs": []
    },
    {
      "cell_type": "code",
      "source": [
        "inputs = tf.keras.layers.Input(shape=(256, 256, 1))\n",
        "\n",
        "c0 = tf.keras.layers.Conv2D(64, activation='relu', kernel_size=3, padding='same')(inputs)\n",
        "c1 = tf.keras.layers.Conv2D(64, activation='relu', kernel_size=3, padding='same')(c0)  # This layer for concatenating in the expansive part\n",
        "#c1 = tf.keras.layers.Dropout(0.1)(c1)\n",
        "c2 = tf.keras.layers.MaxPool2D(pool_size=(2, 2), strides=(2, 2))(c1)\n",
        "\n",
        "c3 = tf.keras.layers.Conv2D(128, activation='relu', kernel_size=3, padding='same')(c2)\n",
        "c4 = tf.keras.layers.Conv2D(128, activation='relu', kernel_size=3, padding='same')(c3)  # This layer for concatenating in the expansive part\n",
        "#c4 = tf.keras.layers.Dropout(0.1)(c4)\n",
        "c5 = tf.keras.layers.MaxPool2D(pool_size=(2, 2), strides=(2, 2))(c4)\n",
        "\n",
        "c6 = tf.keras.layers.Conv2D(256, activation='relu', kernel_size=3, padding='same')(c5)\n",
        "c7 = tf.keras.layers.Conv2D(256, activation='relu', kernel_size=3, padding='same')(c6)  # This layer for concatenating in the expansive part\n",
        "#c7 = tf.keras.layers.Dropout(0.1)(c7)\n",
        "c8 = tf.keras.layers.MaxPool2D(pool_size=(2, 2), strides=(2, 2))(c7)\n",
        "\n",
        "c9 = tf.keras.layers.Conv2D(512, activation='relu', kernel_size=3, padding='same')(c8)\n",
        "c10 = tf.keras.layers.Conv2D(512, activation='relu', kernel_size=3, padding='same')(c9)  # This layer for concatenating in the expansive part\n",
        "#c10 = tf.keras.layers.Dropout(0.1)(c10)\n",
        "c11 = tf.keras.layers.MaxPool2D(pool_size=(2, 2), strides=(2, 2))(c10)\n",
        "\n",
        "c12 = tf.keras.layers.Conv2D(1024, activation='relu', kernel_size=3, padding='same')(c11)\n",
        "c13 = tf.keras.layers.Conv2D(1024, activation='relu', kernel_size=3, padding='same')(c12)\n",
        "c13 = tf.keras.layers.Dropout(0.5)(c13)\n",
        "\n",
        "# We will now start the second part of the U - expansive part\n",
        "t01 = tf.keras.layers.Conv2DTranspose(512, kernel_size=2, strides=(2, 2), activation='relu', padding='same')(c13)\n",
        "concat01 = tf.keras.layers.concatenate([t01, c10])\n",
        "c14 = tf.keras.layers.Conv2D(512, activation='relu', kernel_size=3, padding='same')(concat01)\n",
        "c15 = tf.keras.layers.Conv2D(512, activation='relu', kernel_size=3, padding='same')(c14)\n",
        "\n",
        "t02 = tf.keras.layers.Conv2DTranspose(256, kernel_size=2, strides=(2, 2), activation='relu', padding='same')(c15)\n",
        "concat02 = tf.keras.layers.concatenate([t02, c7])\n",
        "c16 = tf.keras.layers.Conv2D(256, activation='relu', kernel_size=3, padding='same')(concat02)\n",
        "c17 = tf.keras.layers.Conv2D(256, activation='relu', kernel_size=3, padding='same')(c16)\n",
        "\n",
        "t03 = tf.keras.layers.Conv2DTranspose(128, kernel_size=2, strides=(2, 2), activation='relu',padding='same')(c17)\n",
        "concat03 = tf.keras.layers.concatenate([t03, c4])\n",
        "c18 = tf.keras.layers.Conv2D(128, activation='relu', kernel_size=3, padding='same')(concat03)\n",
        "c19 = tf.keras.layers.Conv2D(128, activation='relu', kernel_size=3, padding='same')(c18)\n",
        "\n",
        "t04 = tf.keras.layers.Conv2DTranspose(64, kernel_size=2, strides=(2, 2), activation='relu', padding='same')(c19)\n",
        "concat04 = tf.keras.layers.concatenate([t04, c1])\n",
        "c20 = tf.keras.layers.Conv2D(64, activation='relu', kernel_size=3, padding='same')(concat04)\n",
        "c21 = tf.keras.layers.Conv2D(64, activation='relu', kernel_size=3, padding='same')(c20)\n",
        "\n",
        "outputs = tf.keras.layers.Conv2D(1, kernel_size=1, activation='sigmoid')(c21)\n",
        "\n",
        "model = tf.keras.Model(inputs=inputs, outputs=outputs, name=\"u-netmodel\")"
      ],
      "metadata": {
        "id": "omTadByMWpgS"
      },
      "execution_count": 7,
      "outputs": []
    },
    {
      "cell_type": "code",
      "source": [
        "model.build(input_shape=(256, 256,1))\n",
        "model.compile(optimizer=tf.keras.optimizers.Adam(),# Adam(learning_rate=1e-2),\n",
        "              loss='binary_crossentropy',\n",
        "              metrics=['accuracy'])"
      ],
      "metadata": {
        "id": "an2xMx1WWtYM"
      },
      "execution_count": 8,
      "outputs": []
    },
    {
      "cell_type": "code",
      "source": [
        "result = model.fit(\n",
        "    train_generator,\n",
        "    epochs=5,\n",
        "    steps_per_epoch=len(train_x)//2)"
      ],
      "metadata": {
        "colab": {
          "base_uri": "https://localhost:8080/"
        },
        "id": "R-JDV-ScWzLq",
        "outputId": "5a1ed6d8-c2e6-48a3-cd63-98b842be8cdb"
      },
      "execution_count": 9,
      "outputs": [
        {
          "output_type": "stream",
          "name": "stdout",
          "text": [
            "Epoch 1/5\n",
            "15/15 [==============================] - 23s 403ms/step - loss: 0.6321 - accuracy: 0.6619\n",
            "Epoch 2/5\n",
            "15/15 [==============================] - 6s 401ms/step - loss: 0.5511 - accuracy: 0.7613\n",
            "Epoch 3/5\n",
            "15/15 [==============================] - 6s 404ms/step - loss: 0.5450 - accuracy: 0.8281\n",
            "Epoch 4/5\n",
            "15/15 [==============================] - 6s 400ms/step - loss: 0.5266 - accuracy: 0.8286\n",
            "Epoch 5/5\n",
            "15/15 [==============================] - 6s 402ms/step - loss: 0.4410 - accuracy: 0.8280\n"
          ]
        }
      ]
    },
    {
      "cell_type": "code",
      "source": [
        "ac = result.history['accuracy']\n",
        "loss = result.history['loss']\n",
        "\n",
        "plt.plot(range(1, len(ac)+1), ac, 'bo', label='Training acc')\n",
        "plt.plot(range(1, len(loss)+1), loss, 'b', label='Loss')\n",
        "       \n",
        "plt.title('Training accuracy and loss')\n",
        "plt.xlabel('Epochs')\n",
        "plt.ylabel('Accuracy')\n",
        "plt.legend()\n",
        "plt.show()"
      ],
      "metadata": {
        "id": "L7fBp3vGf1lo",
        "colab": {
          "base_uri": "https://localhost:8080/",
          "height": 295
        },
        "outputId": "e5088f5d-7a16-48f7-b6a9-509cae6e66b9"
      },
      "execution_count": 12,
      "outputs": [
        {
          "output_type": "display_data",
          "data": {
            "image/png": "[encoded data removed]",
            "text/plain": [
              "<Figure size 432x288 with 1 Axes>"
            ]
          },
          "metadata": {
            "needs_background": "light"
          }
        }
      ]
    },
    {
      "cell_type": "code",
      "source": [
        "predicted_result = model.predict(test_x)\n",
        "\n",
        "plt.title('Original')\n",
        "plt.imshow(test_x[2, :,:,0], cmap='binary')\n",
        "plt.show()\n",
        "\n",
        "plt.title('Mask')\n",
        "plt.imshow(test_y[2,:,:,0], cmap='binary')\n",
        "plt.show()\n",
        "\n",
        "plt.title('Predicted')\n",
        "plt.imshow(predicted_result[2,:,:,0], cmap='gist_gray')\n",
        "plt.show()\n",
        "'''\n",
        "plt.title('Predicted')\n",
        "plt.imshow(np.array(predicted_result[2], dtype=np.uint8) .reshape((256,256)), cmap='binary')\n",
        "plt.show()'''"
      ],
      "metadata": {
        "id": "S7xTeU5DW2U_"
      },
      "execution_count": null,
      "outputs": []
    }
  ]
}