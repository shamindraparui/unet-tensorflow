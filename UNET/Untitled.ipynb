{
 "cells": [
  {
   "cell_type": "code",
   "execution_count": 1,
   "id": "approved-history",
   "metadata": {},
   "outputs": [],
   "source": [
    "import os\n",
    "import cv2\n",
    "import tensorflow as tf"
   ]
  },
  {
   "cell_type": "code",
   "execution_count": 2,
   "id": "genetic-idaho",
   "metadata": {},
   "outputs": [],
   "source": [
    "folders = {\n",
    "    'train_x' : os.path.join('train', 'membrane_x'),\n",
    "    'train_y' : os.path.join('train', 'membrane_y'),\n",
    "    'test_x' : os.path.join('test', 'membrane_x'),\n",
    "    'test_y' : os.path.join('test', 'membrane_y')\n",
    "}"
   ]
  },
  {
   "cell_type": "code",
   "execution_count": 3,
   "id": "superb-jacksonville",
   "metadata": {},
   "outputs": [],
   "source": [
    "for folder in folders:\n",
    "    if not os.path.exists(folder):\n",
    "        !mkdir -p {folder}"
   ]
  },
  {
   "cell_type": "code",
   "execution_count": 4,
   "id": "saved-owner",
   "metadata": {},
   "outputs": [],
   "source": [
    "import numpy as np\n",
    "train_x = np.zeros((25, 256, 256, 3), dtype=np.float32)\n",
    "train_y = np.zeros((25, 256, 256), dtype=np.float32)\n",
    "\n",
    "for i, eachImage in enumerate(os.listdir(folders['train_x'])):\n",
    "    img = cv2.imread(os.path.join(folders['train_x'], eachImage),cv2.IMREAD_COLOR)\n",
    "    img = cv2.resize(img, (256,256), interpolation = cv2.INTER_NEAREST)\n",
    "    img = img / 255\n",
    "    train_x[i] = img\n",
    "    \n",
    "    mask = cv2.imread(os.path.join(folders['train_y'], str(i)+'_predict.png'), cv2.IMREAD_GRAYSCALE)\n",
    "    mask = cv2.resize(mask, (256,256))\n",
    "    mask = mask/255\n",
    "    train_y[i] = mask"
   ]
  },
  {
   "cell_type": "code",
   "execution_count": 5,
   "id": "vertical-constraint",
   "metadata": {},
   "outputs": [],
   "source": [
    "test_x = np.zeros((5, 256, 256, 3), dtype=np.float32)\n",
    "test_y = np.zeros((5, 256, 256), dtype=np.float32)\n",
    "\n",
    "for i, eachImage in enumerate(os.listdir(folders['test_x'])):\n",
    "    img = cv2.imread(os.path.join(folders['test_x'], eachImage),cv2.IMREAD_COLOR)\n",
    "    img = cv2.resize(img, (256,256))\n",
    "    img = img / 255\n",
    "    test_x[i] = img\n",
    "    \n",
    "    mask = cv2.imread(os.path.join(folders['test_y'], str(25 + i)+'_predict.png'),cv2.IMREAD_GRAYSCALE)\n",
    "    mask = cv2.resize(mask, (256,256))\n",
    "    mask = mask/255\n",
    "    test_y[i] = mask"
   ]
  },
  {
   "cell_type": "code",
   "execution_count": 6,
   "id": "coated-technique",
   "metadata": {},
   "outputs": [
    {
     "data": {
      "text/plain": [
       "(5, 256, 256)"
      ]
     },
     "execution_count": 6,
     "metadata": {},
     "output_type": "execute_result"
    }
   ],
   "source": [
    "test_y.shape"
   ]
  },
  {
   "cell_type": "code",
   "execution_count": 7,
   "id": "acute-hello",
   "metadata": {},
   "outputs": [],
   "source": [
    "inputs = tf.keras.layers.Input(shape=(256, 256, 3))\n",
    "\n",
    "c0 = tf.keras.layers.Conv2D(64, activation='relu', kernel_size=3, padding='same')(inputs)\n",
    "c1 = tf.keras.layers.Conv2D(64, activation='relu', kernel_size=3, padding='same')(c0)  # This layer for concatenating in the expansive part\n",
    "c2 = tf.keras.layers.MaxPool2D(pool_size=(2, 2), strides=(2, 2))(c1)\n",
    "\n",
    "c3 = tf.keras.layers.Conv2D(128, activation='relu', kernel_size=3, padding='same')(c2)\n",
    "c4 = tf.keras.layers.Conv2D(128, activation='relu', kernel_size=3, padding='same')(c3)  # This layer for concatenating in the expansive part\n",
    "c5 = tf.keras.layers.MaxPool2D(pool_size=(2, 2), strides=(2, 2))(c4)\n",
    "\n",
    "c6 = tf.keras.layers.Conv2D(256, activation='relu', kernel_size=3, padding='same')(c5)\n",
    "c7 = tf.keras.layers.Conv2D(256, activation='relu', kernel_size=3, padding='same')(c6)  # This layer for concatenating in the expansive part\n",
    "c8 = tf.keras.layers.MaxPool2D(pool_size=(2, 2), strides=(2, 2))(c7)\n",
    "\n",
    "c9 = tf.keras.layers.Conv2D(512, activation='relu', kernel_size=3, padding='same')(c8)\n",
    "c10 = tf.keras.layers.Conv2D(512, activation='relu', kernel_size=3, padding='same')(c9)  # This layer for concatenating in the expansive part\n",
    "c11 = tf.keras.layers.MaxPool2D(pool_size=(2, 2), strides=(2, 2))(c10)\n",
    "\n",
    "c12 = tf.keras.layers.Conv2D(1024, activation='relu', kernel_size=3, padding='same')(c11)\n",
    "c13 = tf.keras.layers.Conv2D(1024, activation='relu', kernel_size=3, padding='same')(c12)\n",
    "\n",
    "# We will now start the second part of the U - expansive part\n",
    "t01 = tf.keras.layers.Conv2DTranspose(512, kernel_size=2, strides=(2, 2), activation='relu', padding='same')(c13)\n",
    "concat01 = tf.keras.layers.concatenate([t01, c10])\n",
    "c14 = tf.keras.layers.Conv2D(512, activation='relu', kernel_size=3, padding='same')(concat01)\n",
    "c15 = tf.keras.layers.Conv2D(512, activation='relu', kernel_size=3, padding='same')(c14)\n",
    "\n",
    "t02 = tf.keras.layers.Conv2DTranspose(256, kernel_size=2, strides=(2, 2), activation='relu', padding='same')(c15)\n",
    "concat02 = tf.keras.layers.concatenate([t02, c7])\n",
    "c16 = tf.keras.layers.Conv2D(256, activation='relu', kernel_size=3, padding='same')(concat02)\n",
    "c17 = tf.keras.layers.Conv2D(256, activation='relu', kernel_size=3, padding='same')(c16)\n",
    "\n",
    "t03 = tf.keras.layers.Conv2DTranspose(128, kernel_size=2, strides=(2, 2), activation='relu',padding='same')(c17)\n",
    "concat03 = tf.keras.layers.concatenate([t03, c4])\n",
    "c18 = tf.keras.layers.Conv2D(128, activation='relu', kernel_size=3, padding='same')(concat03)\n",
    "c19 = tf.keras.layers.Conv2D(128, activation='relu', kernel_size=3, padding='same')(c18)\n",
    "\n",
    "t04 = tf.keras.layers.Conv2DTranspose(64, kernel_size=2, strides=(2, 2), activation='relu', padding='same')(c19)\n",
    "concat04 = tf.keras.layers.concatenate([t04, c1])\n",
    "c20 = tf.keras.layers.Conv2D(64, activation='relu', kernel_size=3, padding='same')(concat04)\n",
    "c21 = tf.keras.layers.Conv2D(64, activation='relu', kernel_size=3, padding='same')(c20)\n",
    "\n",
    "outputs = tf.keras.layers.Conv2D(1, kernel_size=1, activation='sigmoid')(c21)\n",
    "\n",
    "model = tf.keras.Model(inputs=inputs, outputs=outputs, name=\"u-netmodel\")"
   ]
  },
  {
   "cell_type": "code",
   "execution_count": 8,
   "id": "major-progress",
   "metadata": {},
   "outputs": [
    {
     "name": "stdout",
     "output_type": "stream",
     "text": [
      "Model: \"u-netmodel\"\n",
      "__________________________________________________________________________________________________\n",
      "Layer (type)                    Output Shape         Param #     Connected to                     \n",
      "==================================================================================================\n",
      "input_1 (InputLayer)            [(None, 256, 256, 3) 0                                            \n",
      "__________________________________________________________________________________________________\n",
      "conv2d (Conv2D)                 (None, 256, 256, 64) 1792        input_1[0][0]                    \n",
      "__________________________________________________________________________________________________\n",
      "conv2d_1 (Conv2D)               (None, 256, 256, 64) 36928       conv2d[0][0]                     \n",
      "__________________________________________________________________________________________________\n",
      "max_pooling2d (MaxPooling2D)    (None, 128, 128, 64) 0           conv2d_1[0][0]                   \n",
      "__________________________________________________________________________________________________\n",
      "conv2d_2 (Conv2D)               (None, 128, 128, 128 73856       max_pooling2d[0][0]              \n",
      "__________________________________________________________________________________________________\n",
      "conv2d_3 (Conv2D)               (None, 128, 128, 128 147584      conv2d_2[0][0]                   \n",
      "__________________________________________________________________________________________________\n",
      "max_pooling2d_1 (MaxPooling2D)  (None, 64, 64, 128)  0           conv2d_3[0][0]                   \n",
      "__________________________________________________________________________________________________\n",
      "conv2d_4 (Conv2D)               (None, 64, 64, 256)  295168      max_pooling2d_1[0][0]            \n",
      "__________________________________________________________________________________________________\n",
      "conv2d_5 (Conv2D)               (None, 64, 64, 256)  590080      conv2d_4[0][0]                   \n",
      "__________________________________________________________________________________________________\n",
      "max_pooling2d_2 (MaxPooling2D)  (None, 32, 32, 256)  0           conv2d_5[0][0]                   \n",
      "__________________________________________________________________________________________________\n",
      "conv2d_6 (Conv2D)               (None, 32, 32, 512)  1180160     max_pooling2d_2[0][0]            \n",
      "__________________________________________________________________________________________________\n",
      "conv2d_7 (Conv2D)               (None, 32, 32, 512)  2359808     conv2d_6[0][0]                   \n",
      "__________________________________________________________________________________________________\n",
      "max_pooling2d_3 (MaxPooling2D)  (None, 16, 16, 512)  0           conv2d_7[0][0]                   \n",
      "__________________________________________________________________________________________________\n",
      "conv2d_8 (Conv2D)               (None, 16, 16, 1024) 4719616     max_pooling2d_3[0][0]            \n",
      "__________________________________________________________________________________________________\n",
      "conv2d_9 (Conv2D)               (None, 16, 16, 1024) 9438208     conv2d_8[0][0]                   \n",
      "__________________________________________________________________________________________________\n",
      "conv2d_transpose (Conv2DTranspo (None, 32, 32, 512)  2097664     conv2d_9[0][0]                   \n",
      "__________________________________________________________________________________________________\n",
      "concatenate (Concatenate)       (None, 32, 32, 1024) 0           conv2d_transpose[0][0]           \n",
      "                                                                 conv2d_7[0][0]                   \n",
      "__________________________________________________________________________________________________\n",
      "conv2d_10 (Conv2D)              (None, 32, 32, 512)  4719104     concatenate[0][0]                \n",
      "__________________________________________________________________________________________________\n",
      "conv2d_11 (Conv2D)              (None, 32, 32, 512)  2359808     conv2d_10[0][0]                  \n",
      "__________________________________________________________________________________________________\n",
      "conv2d_transpose_1 (Conv2DTrans (None, 64, 64, 256)  524544      conv2d_11[0][0]                  \n",
      "__________________________________________________________________________________________________\n",
      "concatenate_1 (Concatenate)     (None, 64, 64, 512)  0           conv2d_transpose_1[0][0]         \n",
      "                                                                 conv2d_5[0][0]                   \n",
      "__________________________________________________________________________________________________\n",
      "conv2d_12 (Conv2D)              (None, 64, 64, 256)  1179904     concatenate_1[0][0]              \n",
      "__________________________________________________________________________________________________\n",
      "conv2d_13 (Conv2D)              (None, 64, 64, 256)  590080      conv2d_12[0][0]                  \n",
      "__________________________________________________________________________________________________\n",
      "conv2d_transpose_2 (Conv2DTrans (None, 128, 128, 128 131200      conv2d_13[0][0]                  \n",
      "__________________________________________________________________________________________________\n",
      "concatenate_2 (Concatenate)     (None, 128, 128, 256 0           conv2d_transpose_2[0][0]         \n",
      "                                                                 conv2d_3[0][0]                   \n",
      "__________________________________________________________________________________________________\n",
      "conv2d_14 (Conv2D)              (None, 128, 128, 128 295040      concatenate_2[0][0]              \n",
      "__________________________________________________________________________________________________\n",
      "conv2d_15 (Conv2D)              (None, 128, 128, 128 147584      conv2d_14[0][0]                  \n",
      "__________________________________________________________________________________________________\n",
      "conv2d_transpose_3 (Conv2DTrans (None, 256, 256, 64) 32832       conv2d_15[0][0]                  \n",
      "__________________________________________________________________________________________________\n",
      "concatenate_3 (Concatenate)     (None, 256, 256, 128 0           conv2d_transpose_3[0][0]         \n",
      "                                                                 conv2d_1[0][0]                   \n",
      "__________________________________________________________________________________________________\n",
      "conv2d_16 (Conv2D)              (None, 256, 256, 64) 73792       concatenate_3[0][0]              \n",
      "__________________________________________________________________________________________________\n",
      "conv2d_17 (Conv2D)              (None, 256, 256, 64) 36928       conv2d_16[0][0]                  \n",
      "__________________________________________________________________________________________________\n",
      "conv2d_18 (Conv2D)              (None, 256, 256, 1)  65          conv2d_17[0][0]                  \n",
      "==================================================================================================\n",
      "Total params: 31,031,745\n",
      "Trainable params: 31,031,745\n",
      "Non-trainable params: 0\n",
      "__________________________________________________________________________________________________\n"
     ]
    }
   ],
   "source": [
    "model.summary()"
   ]
  },
  {
   "cell_type": "code",
   "execution_count": 9,
   "id": "compatible-speaker",
   "metadata": {},
   "outputs": [],
   "source": [
    "model.build(input_shape=(25, 256, 256, 3))\n",
    "model.compile(optimizer='adam',\n",
    "              loss='binary_crossentropy',\n",
    "              metrics=['accuracy'])"
   ]
  },
  {
   "cell_type": "code",
   "execution_count": 10,
   "id": "nasty-harvey",
   "metadata": {},
   "outputs": [
    {
     "name": "stdout",
     "output_type": "stream",
     "text": [
      "Epoch 1/10\n",
      "12/12 [==============================] - 78s 6s/step - loss: 0.5980 - accuracy: 0.6748 - val_loss: 0.4971 - val_accuracy: 0.6953\n",
      "Epoch 2/10\n",
      "12/12 [==============================] - 75s 6s/step - loss: 0.5158 - accuracy: 0.6705 - val_loss: 0.4910 - val_accuracy: 0.6953\n",
      "Epoch 3/10\n",
      "12/12 [==============================] - 73s 6s/step - loss: 0.5179 - accuracy: 0.6657 - val_loss: 0.4907 - val_accuracy: 0.6953\n",
      "Epoch 4/10\n",
      "12/12 [==============================] - 72s 6s/step - loss: 0.5120 - accuracy: 0.6725 - val_loss: 0.4909 - val_accuracy: 0.6953\n",
      "Epoch 5/10\n",
      "12/12 [==============================] - 72s 6s/step - loss: 0.5033 - accuracy: 0.6732 - val_loss: 0.4910 - val_accuracy: 0.6953\n",
      "Epoch 6/10\n",
      "12/12 [==============================] - 73s 6s/step - loss: 0.5054 - accuracy: 0.6767 - val_loss: 0.4909 - val_accuracy: 0.6953\n",
      "Epoch 7/10\n",
      "12/12 [==============================] - 72s 6s/step - loss: 0.5120 - accuracy: 0.6733 - val_loss: 0.4921 - val_accuracy: 0.6953\n",
      "Epoch 8/10\n",
      "12/12 [==============================] - 72s 6s/step - loss: 0.5037 - accuracy: 0.6723 - val_loss: 0.4890 - val_accuracy: 0.6953\n",
      "Epoch 9/10\n",
      "12/12 [==============================] - 72s 6s/step - loss: 0.5159 - accuracy: 0.6639 - val_loss: 0.4888 - val_accuracy: 0.6953\n",
      "Epoch 10/10\n",
      "12/12 [==============================] - 73s 6s/step - loss: 0.5067 - accuracy: 0.6725 - val_loss: 0.4905 - val_accuracy: 0.6953\n"
     ]
    }
   ],
   "source": [
    "#tensorboard_callback = tf.keras.callbacks.TensorBoard(log_dir=\"/logs/\")\n",
    "\n",
    "result = model.fit(\n",
    "    train_x,\n",
    "    train_y,\n",
    "    validation_data=(test_x, test_y),\n",
    "    batch_size=2,\n",
    "    epochs=10,\n",
    "    steps_per_epoch=len(train_x)//2,\n",
    "    validation_steps=len(test_x)//2\n",
    ")#, callbacks=[tensorboard_callback])"
   ]
  },
  {
   "cell_type": "code",
   "execution_count": 23,
   "id": "waiting-windows",
   "metadata": {},
   "outputs": [
    {
     "data": {
      "image/png": "[encoded data removed]",
      "text/plain": [
       "<Figure size 432x288 with 1 Axes>"
      ]
     },
     "metadata": {
      "needs_background": "light"
     },
     "output_type": "display_data"
    }
   ],
   "source": [
    "import matplotlib.pyplot as plt\n",
    "\n",
    "ac = result.history['accuracy']\n",
    "val_ac = result.history['val_accuracy']\n",
    "\n",
    "plt.plot(range(1, len(ac)+1), ac, 'bo', label='Training acc')\n",
    "plt.plot(range(1, len(val_ac)+1), val_ac, 'b', label='Validation acc')\n",
    "       \n",
    "plt.title('Training and validation accuracy')\n",
    "plt.xlabel('Epochs')\n",
    "plt.ylabel('Accuracy')\n",
    "plt.legend()\n",
    "plt.show()"
   ]
  },
  {
   "cell_type": "code",
   "execution_count": 26,
   "id": "atmospheric-melissa",
   "metadata": {},
   "outputs": [],
   "source": [
    "predicted_result = model.predict(test_x)"
   ]
  },
  {
   "cell_type": "code",
   "execution_count": 27,
   "id": "gentle-governor",
   "metadata": {},
   "outputs": [
    {
     "data": {
      "text/plain": [
       "numpy.ndarray"
      ]
     },
     "execution_count": 27,
     "metadata": {},
     "output_type": "execute_result"
    }
   ],
   "source": [
    "type(predicted_result)"
   ]
  },
  {
   "cell_type": "code",
   "execution_count": 42,
   "id": "comprehensive-immigration",
   "metadata": {},
   "outputs": [],
   "source": [
    "cv2.imshow('Pred', predicted_result[2])\n",
    "cv2.waitKey(0)\n",
    "cv2.destroyAllWindows()"
   ]
  },
  {
   "cell_type": "code",
   "execution_count": 41,
   "id": "popular-killer",
   "metadata": {},
   "outputs": [
    {
     "ename": "TypeError",
     "evalue": "subplot() takes 1 or 3 positional arguments but 2 were given",
     "output_type": "error",
     "traceback": [
      "\u001b[0;31m---------------------------------------------------------------------------\u001b[0m",
      "\u001b[0;31mTypeError\u001b[0m                                 Traceback (most recent call last)",
      "\u001b[0;32m<ipython-input-41-49cc7cb6da3d>\u001b[0m in \u001b[0;36m<module>\u001b[0;34m\u001b[0m\n\u001b[1;32m      1\u001b[0m \u001b[0mplt\u001b[0m\u001b[0;34m.\u001b[0m\u001b[0mfigure\u001b[0m\u001b[0;34m(\u001b[0m\u001b[0mfigsize\u001b[0m\u001b[0;34m=\u001b[0m\u001b[0;34m(\u001b[0m\u001b[0;36m15\u001b[0m\u001b[0;34m,\u001b[0m \u001b[0;36m15\u001b[0m\u001b[0;34m)\u001b[0m\u001b[0;34m)\u001b[0m\u001b[0;34m\u001b[0m\u001b[0;34m\u001b[0m\u001b[0m\n\u001b[1;32m      2\u001b[0m \u001b[0;32mfor\u001b[0m \u001b[0mi\u001b[0m \u001b[0;32min\u001b[0m \u001b[0mrange\u001b[0m\u001b[0;34m(\u001b[0m\u001b[0;36m0\u001b[0m\u001b[0;34m,\u001b[0m \u001b[0mlen\u001b[0m\u001b[0;34m(\u001b[0m\u001b[0mpredicted_result\u001b[0m\u001b[0;34m)\u001b[0m\u001b[0;34m)\u001b[0m\u001b[0;34m:\u001b[0m\u001b[0;34m\u001b[0m\u001b[0;34m\u001b[0m\u001b[0m\n\u001b[0;32m----> 3\u001b[0;31m     \u001b[0mplt\u001b[0m\u001b[0;34m.\u001b[0m\u001b[0msubplot\u001b[0m\u001b[0;34m(\u001b[0m\u001b[0;36m1\u001b[0m\u001b[0;34m,\u001b[0m \u001b[0mlen\u001b[0m\u001b[0;34m(\u001b[0m\u001b[0mpredicted_result\u001b[0m\u001b[0;34m)\u001b[0m\u001b[0;34m)\u001b[0m\u001b[0;31m#, i + 1)\u001b[0m\u001b[0;34m\u001b[0m\u001b[0;34m\u001b[0m\u001b[0m\n\u001b[0m\u001b[1;32m      4\u001b[0m     \u001b[0mplt\u001b[0m\u001b[0;34m.\u001b[0m\u001b[0mimshow\u001b[0m\u001b[0;34m(\u001b[0m\u001b[0mpredicted_result\u001b[0m\u001b[0;34m[\u001b[0m\u001b[0mi\u001b[0m\u001b[0;34m]\u001b[0m\u001b[0;34m)\u001b[0m\u001b[0;34m\u001b[0m\u001b[0;34m\u001b[0m\u001b[0m\n\u001b[1;32m      5\u001b[0m     \u001b[0mplt\u001b[0m\u001b[0;34m.\u001b[0m\u001b[0maxis\u001b[0m\u001b[0;34m(\u001b[0m\u001b[0;34m'off'\u001b[0m\u001b[0;34m)\u001b[0m\u001b[0;34m\u001b[0m\u001b[0;34m\u001b[0m\u001b[0m\n",
      "\u001b[0;32m~/.local/lib/python3.8/site-packages/matplotlib/pyplot.py\u001b[0m in \u001b[0;36msubplot\u001b[0;34m(*args, **kwargs)\u001b[0m\n\u001b[1;32m   1140\u001b[0m \u001b[0;34m\u001b[0m\u001b[0m\n\u001b[1;32m   1141\u001b[0m     \u001b[0mfig\u001b[0m \u001b[0;34m=\u001b[0m \u001b[0mgcf\u001b[0m\u001b[0;34m(\u001b[0m\u001b[0;34m)\u001b[0m\u001b[0;34m\u001b[0m\u001b[0;34m\u001b[0m\u001b[0m\n\u001b[0;32m-> 1142\u001b[0;31m     \u001b[0max\u001b[0m \u001b[0;34m=\u001b[0m \u001b[0mfig\u001b[0m\u001b[0;34m.\u001b[0m\u001b[0madd_subplot\u001b[0m\u001b[0;34m(\u001b[0m\u001b[0;34m*\u001b[0m\u001b[0margs\u001b[0m\u001b[0;34m,\u001b[0m \u001b[0;34m**\u001b[0m\u001b[0mkwargs\u001b[0m\u001b[0;34m)\u001b[0m\u001b[0;34m\u001b[0m\u001b[0;34m\u001b[0m\u001b[0m\n\u001b[0m\u001b[1;32m   1143\u001b[0m     \u001b[0mbbox\u001b[0m \u001b[0;34m=\u001b[0m \u001b[0max\u001b[0m\u001b[0;34m.\u001b[0m\u001b[0mbbox\u001b[0m\u001b[0;34m\u001b[0m\u001b[0;34m\u001b[0m\u001b[0m\n\u001b[1;32m   1144\u001b[0m     \u001b[0maxes_to_delete\u001b[0m \u001b[0;34m=\u001b[0m \u001b[0;34m[\u001b[0m\u001b[0;34m]\u001b[0m\u001b[0;34m\u001b[0m\u001b[0;34m\u001b[0m\u001b[0m\n",
      "\u001b[0;32m~/.local/lib/python3.8/site-packages/matplotlib/figure.py\u001b[0m in \u001b[0;36madd_subplot\u001b[0;34m(self, *args, **kwargs)\u001b[0m\n\u001b[1;32m   1400\u001b[0m                     \u001b[0;31m# more similar to add_axes.\u001b[0m\u001b[0;34m\u001b[0m\u001b[0;34m\u001b[0m\u001b[0;34m\u001b[0m\u001b[0m\n\u001b[1;32m   1401\u001b[0m                     \u001b[0mself\u001b[0m\u001b[0;34m.\u001b[0m\u001b[0m_axstack\u001b[0m\u001b[0;34m.\u001b[0m\u001b[0mremove\u001b[0m\u001b[0;34m(\u001b[0m\u001b[0max\u001b[0m\u001b[0;34m)\u001b[0m\u001b[0;34m\u001b[0m\u001b[0;34m\u001b[0m\u001b[0m\n\u001b[0;32m-> 1402\u001b[0;31m             \u001b[0max\u001b[0m \u001b[0;34m=\u001b[0m \u001b[0msubplot_class_factory\u001b[0m\u001b[0;34m(\u001b[0m\u001b[0mprojection_class\u001b[0m\u001b[0;34m)\u001b[0m\u001b[0;34m(\u001b[0m\u001b[0mself\u001b[0m\u001b[0;34m,\u001b[0m \u001b[0;34m*\u001b[0m\u001b[0margs\u001b[0m\u001b[0;34m,\u001b[0m \u001b[0;34m**\u001b[0m\u001b[0mkwargs\u001b[0m\u001b[0;34m)\u001b[0m\u001b[0;34m\u001b[0m\u001b[0;34m\u001b[0m\u001b[0m\n\u001b[0m\u001b[1;32m   1403\u001b[0m \u001b[0;34m\u001b[0m\u001b[0m\n\u001b[1;32m   1404\u001b[0m         \u001b[0;32mreturn\u001b[0m \u001b[0mself\u001b[0m\u001b[0;34m.\u001b[0m\u001b[0m_add_axes_internal\u001b[0m\u001b[0;34m(\u001b[0m\u001b[0mkey\u001b[0m\u001b[0;34m,\u001b[0m \u001b[0max\u001b[0m\u001b[0;34m)\u001b[0m\u001b[0;34m\u001b[0m\u001b[0;34m\u001b[0m\u001b[0m\n",
      "\u001b[0;32m~/.local/lib/python3.8/site-packages/matplotlib/axes/_subplots.py\u001b[0m in \u001b[0;36m__init__\u001b[0;34m(self, fig, *args, **kwargs)\u001b[0m\n\u001b[1;32m     37\u001b[0m \u001b[0;34m\u001b[0m\u001b[0m\n\u001b[1;32m     38\u001b[0m         \u001b[0mself\u001b[0m\u001b[0;34m.\u001b[0m\u001b[0mfigure\u001b[0m \u001b[0;34m=\u001b[0m \u001b[0mfig\u001b[0m\u001b[0;34m\u001b[0m\u001b[0;34m\u001b[0m\u001b[0m\n\u001b[0;32m---> 39\u001b[0;31m         \u001b[0mself\u001b[0m\u001b[0;34m.\u001b[0m\u001b[0m_subplotspec\u001b[0m \u001b[0;34m=\u001b[0m \u001b[0mSubplotSpec\u001b[0m\u001b[0;34m.\u001b[0m\u001b[0m_from_subplot_args\u001b[0m\u001b[0;34m(\u001b[0m\u001b[0mfig\u001b[0m\u001b[0;34m,\u001b[0m \u001b[0margs\u001b[0m\u001b[0;34m)\u001b[0m\u001b[0;34m\u001b[0m\u001b[0;34m\u001b[0m\u001b[0m\n\u001b[0m\u001b[1;32m     40\u001b[0m         \u001b[0mself\u001b[0m\u001b[0;34m.\u001b[0m\u001b[0mupdate_params\u001b[0m\u001b[0;34m(\u001b[0m\u001b[0;34m)\u001b[0m\u001b[0;34m\u001b[0m\u001b[0;34m\u001b[0m\u001b[0m\n\u001b[1;32m     41\u001b[0m         \u001b[0;31m# _axes_class is set in the subplot_class_factory\u001b[0m\u001b[0;34m\u001b[0m\u001b[0;34m\u001b[0m\u001b[0;34m\u001b[0m\u001b[0m\n",
      "\u001b[0;32m~/.local/lib/python3.8/site-packages/matplotlib/gridspec.py\u001b[0m in \u001b[0;36m_from_subplot_args\u001b[0;34m(figure, args)\u001b[0m\n\u001b[1;32m    691\u001b[0m                 \u001b[0;32mreturn\u001b[0m \u001b[0mgs\u001b[0m\u001b[0;34m[\u001b[0m\u001b[0mnum\u001b[0m \u001b[0;34m-\u001b[0m \u001b[0;36m1\u001b[0m\u001b[0;34m]\u001b[0m   \u001b[0;31m# -1 due to MATLAB indexing.\u001b[0m\u001b[0;34m\u001b[0m\u001b[0;34m\u001b[0m\u001b[0m\n\u001b[1;32m    692\u001b[0m         \u001b[0;32melse\u001b[0m\u001b[0;34m:\u001b[0m\u001b[0;34m\u001b[0m\u001b[0;34m\u001b[0m\u001b[0m\n\u001b[0;32m--> 693\u001b[0;31m             raise TypeError(f\"subplot() takes 1 or 3 positional arguments but \"\n\u001b[0m\u001b[1;32m    694\u001b[0m                             f\"{len(args)} were given\")\n\u001b[1;32m    695\u001b[0m \u001b[0;34m\u001b[0m\u001b[0m\n",
      "\u001b[0;31mTypeError\u001b[0m: subplot() takes 1 or 3 positional arguments but 2 were given"
     ]
    },
    {
     "data": {
      "text/plain": [
       "<Figure size 1080x1080 with 0 Axes>"
      ]
     },
     "metadata": {},
     "output_type": "display_data"
    }
   ],
   "source": [
    "plt.figure(figsize=(15, 15))\n",
    "for i in range(0, len(predicted_result)):\n",
    "    plt.imshow(predicted_result[i])\n",
    "    plt.axis('off')\n",
    "plt.show()"
   ]
  },
  {
   "cell_type": "code",
   "execution_count": null,
   "id": "alpha-apartment",
   "metadata": {},
   "outputs": [],
   "source": []
  }
 ],
 "metadata": {
  "kernelspec": {
   "display_name": "Python 3",
   "language": "python",
   "name": "python3"
  },
  "language_info": {
   "codemirror_mode": {
    "name": "ipython",
    "version": 3
   },
   "file_extension": ".py",
   "mimetype": "text/x-python",
   "name": "python",
   "nbconvert_exporter": "python",
   "pygments_lexer": "ipython3",
   "version": "3.8.10"
  }
 },
 "nbformat": 4,
 "nbformat_minor": 5
}
